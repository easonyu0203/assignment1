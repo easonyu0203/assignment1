{
 "cells": [
  {
   "cell_type": "markdown",
   "metadata": {
    "collapsed": false
   },
   "source": [
    "# Preprocess & add Noise"
   ]
  },
  {
   "cell_type": "code",
   "execution_count": 1,
   "metadata": {},
   "outputs": [],
   "source": [
    "from dataclasses import dataclass\n",
    "from utils.visualization import plot_reconstructed_images\n",
    "\n",
    "from preprocessing.noise import BlockNoise, BlurNoise\n",
    "from preprocessing.custom_preprocess import ImagePreprocessor\n",
    "from preprocessing.load_data import load_image_data\n",
    "from algorithms import MultiplicativeUpdateNMF, RobustNMF, SparseNMF\n",
    "\n",
    "@dataclass\n",
    "class ExperimentParam:\n",
    "    nmf: str # 'multiplicative_update' | 'robust' | 'sparse'\n",
    "    dataset: str # 'yaleB' | 'orl'\n",
    "    noises: list # ['block_noise', 'blur_noise']\n",
    "\n",
    "class Experiment:\n",
    "    def __init__(self, param: ExperimentParam):\n",
    "        self.param = param\n",
    "\n",
    "\n",
    "    def run(self, run_name: str):\n",
    "        # set up\n",
    "        preprocessor = ImagePreprocessor(max_size=3_000)\n",
    "        block_noise = BlockNoise(mean=0.2, std=0.05, prob=0.6)\n",
    "        blur_noise = BlurNoise(mean=2, std=0.5, prob=0.6)\n",
    "\n",
    "        # noise\n",
    "        noises = []\n",
    "        if \"block_noise\" in self.param.noises:\n",
    "            noises.append(block_noise)\n",
    "        if \"blur_noise\" in self.param.noises:\n",
    "            noises.append(blur_noise)\n",
    "\n",
    "        # load data\n",
    "        data_path = './data/CroppedYaleB' if self.param.dataset == 'yaleB' else './data/ORL'\n",
    "        image_data, image_labels, image_objects = load_image_data(\n",
    "            data_path,\n",
    "            preprocess_function=preprocessor.preprocess,\n",
    "            noise_functions=noises,\n",
    "            data_fraction=0.5,\n",
    "        )\n",
    "\n",
    "        # run NMF algorithms\n",
    "        if self.param.nmf == 'multiplicative_update':\n",
    "            nmf_object = MultiplicativeUpdateNMF(\n",
    "                V=image_data.T,\n",
    "                num_features=20,\n",
    "                max_iters=1000,\n",
    "            )\n",
    "        elif self.param.nmf == 'robust':\n",
    "            nmf_object = RobustNMF(\n",
    "                V=image_data.T,\n",
    "                num_features=20,\n",
    "                max_iters=1000,\n",
    "                lambda_param=0.5,\n",
    "                learning_rate=0.0001,\n",
    "            )\n",
    "        elif self.param.nmf == 'sparse':\n",
    "            nmf_object = SparseNMF(\n",
    "                V=image_data.T,\n",
    "                num_features=20,\n",
    "                max_iters=1000,\n",
    "                alpha=0.5,\n",
    "                beta=0.5\n",
    "            )\n",
    "        else:\n",
    "            raise ValueError(\"nmf must be one of 'multiplicative_update', 'robust', 'sparse'\")\n",
    "\n",
    "        nmf_object.fit(\n",
    "            plot_metrics=False,\n",
    "            use_tqdm=True,\n",
    "            early_stop=True,\n",
    "            patience=20,\n",
    "            tol=1e-4,\n",
    "        )\n",
    "\n",
    "        # collect metrics\n",
    "        metrics = nmf_object.evaluate(image_labels)\n",
    "        reconstructed_images_path = plot_reconstructed_images(nmf_object.get_reconstruction().T, image_objects, preprocessor)\n",
    "\n",
    "        return {\n",
    "            \"name\": run_name,\n",
    "            \"param\": self.param,\n",
    "            \"metrics\": metrics,\n",
    "            \"reconstructed_images_path\": reconstructed_images_path,\n",
    "        }\n",
    "\n"
   ]
  },
  {
   "cell_type": "code",
   "execution_count": 2,
   "metadata": {
    "collapsed": false
   },
   "outputs": [
    {
     "name": "stderr",
     "output_type": "stream",
     "text": [
      "MultiplicativeUpdateNMF Progress:   3%|▎         | 28/1000 [00:38<22:33,  1.39s/it, Reconstruction RMSE=0.183, Cost Function=1.3e+5] \n"
     ]
    },
    {
     "ename": "KeyboardInterrupt",
     "evalue": "",
     "output_type": "error",
     "traceback": [
      "\u001b[0;31m---------------------------------------------------------------------------\u001b[0m",
      "\u001b[0;31mKeyboardInterrupt\u001b[0m                         Traceback (most recent call last)",
      "\u001b[1;32m/Users/Ethan/Developer/Projects/Usyd/ML/assignment1/main.ipynb Cell 3\u001b[0m line \u001b[0;36m1\n\u001b[1;32m      <a href='vscode-notebook-cell:/Users/Ethan/Developer/Projects/Usyd/ML/assignment1/main.ipynb#X22sZmlsZQ%3D%3D?line=2'>3</a>\u001b[0m param \u001b[39m=\u001b[39m ExperimentParam(\n\u001b[1;32m      <a href='vscode-notebook-cell:/Users/Ethan/Developer/Projects/Usyd/ML/assignment1/main.ipynb#X22sZmlsZQ%3D%3D?line=3'>4</a>\u001b[0m     nmf\u001b[39m=\u001b[39m\u001b[39m'\u001b[39m\u001b[39mmultiplicative_update\u001b[39m\u001b[39m'\u001b[39m,\n\u001b[1;32m      <a href='vscode-notebook-cell:/Users/Ethan/Developer/Projects/Usyd/ML/assignment1/main.ipynb#X22sZmlsZQ%3D%3D?line=4'>5</a>\u001b[0m     dataset\u001b[39m=\u001b[39m\u001b[39m'\u001b[39m\u001b[39morl\u001b[39m\u001b[39m'\u001b[39m,\n\u001b[1;32m      <a href='vscode-notebook-cell:/Users/Ethan/Developer/Projects/Usyd/ML/assignment1/main.ipynb#X22sZmlsZQ%3D%3D?line=5'>6</a>\u001b[0m     noises\u001b[39m=\u001b[39m[],\n\u001b[1;32m      <a href='vscode-notebook-cell:/Users/Ethan/Developer/Projects/Usyd/ML/assignment1/main.ipynb#X22sZmlsZQ%3D%3D?line=6'>7</a>\u001b[0m )\n\u001b[1;32m      <a href='vscode-notebook-cell:/Users/Ethan/Developer/Projects/Usyd/ML/assignment1/main.ipynb#X22sZmlsZQ%3D%3D?line=8'>9</a>\u001b[0m experiment \u001b[39m=\u001b[39m Experiment(param)\n\u001b[0;32m---> <a href='vscode-notebook-cell:/Users/Ethan/Developer/Projects/Usyd/ML/assignment1/main.ipynb#X22sZmlsZQ%3D%3D?line=9'>10</a>\u001b[0m result \u001b[39m=\u001b[39m experiment\u001b[39m.\u001b[39;49mrun(\u001b[39m'\u001b[39;49m\u001b[39mtest\u001b[39;49m\u001b[39m'\u001b[39;49m)\n",
      "\u001b[1;32m/Users/Ethan/Developer/Projects/Usyd/ML/assignment1/main.ipynb Cell 3\u001b[0m line \u001b[0;36m6\n\u001b[1;32m     <a href='vscode-notebook-cell:/Users/Ethan/Developer/Projects/Usyd/ML/assignment1/main.ipynb#X22sZmlsZQ%3D%3D?line=64'>65</a>\u001b[0m \u001b[39melse\u001b[39;00m:\n\u001b[1;32m     <a href='vscode-notebook-cell:/Users/Ethan/Developer/Projects/Usyd/ML/assignment1/main.ipynb#X22sZmlsZQ%3D%3D?line=65'>66</a>\u001b[0m     \u001b[39mraise\u001b[39;00m \u001b[39mValueError\u001b[39;00m(\u001b[39m\"\u001b[39m\u001b[39mnmf must be one of \u001b[39m\u001b[39m'\u001b[39m\u001b[39mmultiplicative_update\u001b[39m\u001b[39m'\u001b[39m\u001b[39m, \u001b[39m\u001b[39m'\u001b[39m\u001b[39mrobust\u001b[39m\u001b[39m'\u001b[39m\u001b[39m, \u001b[39m\u001b[39m'\u001b[39m\u001b[39msparse\u001b[39m\u001b[39m'\u001b[39m\u001b[39m\"\u001b[39m)\n\u001b[0;32m---> <a href='vscode-notebook-cell:/Users/Ethan/Developer/Projects/Usyd/ML/assignment1/main.ipynb#X22sZmlsZQ%3D%3D?line=67'>68</a>\u001b[0m nmf_object\u001b[39m.\u001b[39;49mfit(\n\u001b[1;32m     <a href='vscode-notebook-cell:/Users/Ethan/Developer/Projects/Usyd/ML/assignment1/main.ipynb#X22sZmlsZQ%3D%3D?line=68'>69</a>\u001b[0m     plot_metrics\u001b[39m=\u001b[39;49m\u001b[39mFalse\u001b[39;49;00m,\n\u001b[1;32m     <a href='vscode-notebook-cell:/Users/Ethan/Developer/Projects/Usyd/ML/assignment1/main.ipynb#X22sZmlsZQ%3D%3D?line=69'>70</a>\u001b[0m     use_tqdm\u001b[39m=\u001b[39;49m\u001b[39mTrue\u001b[39;49;00m,\n\u001b[1;32m     <a href='vscode-notebook-cell:/Users/Ethan/Developer/Projects/Usyd/ML/assignment1/main.ipynb#X22sZmlsZQ%3D%3D?line=70'>71</a>\u001b[0m     early_stop\u001b[39m=\u001b[39;49m\u001b[39mTrue\u001b[39;49;00m,\n\u001b[1;32m     <a href='vscode-notebook-cell:/Users/Ethan/Developer/Projects/Usyd/ML/assignment1/main.ipynb#X22sZmlsZQ%3D%3D?line=71'>72</a>\u001b[0m     patience\u001b[39m=\u001b[39;49m\u001b[39m20\u001b[39;49m,\n\u001b[1;32m     <a href='vscode-notebook-cell:/Users/Ethan/Developer/Projects/Usyd/ML/assignment1/main.ipynb#X22sZmlsZQ%3D%3D?line=72'>73</a>\u001b[0m     tol\u001b[39m=\u001b[39;49m\u001b[39m1e-4\u001b[39;49m,\n\u001b[1;32m     <a href='vscode-notebook-cell:/Users/Ethan/Developer/Projects/Usyd/ML/assignment1/main.ipynb#X22sZmlsZQ%3D%3D?line=73'>74</a>\u001b[0m )\n\u001b[1;32m     <a href='vscode-notebook-cell:/Users/Ethan/Developer/Projects/Usyd/ML/assignment1/main.ipynb#X22sZmlsZQ%3D%3D?line=75'>76</a>\u001b[0m \u001b[39m# collect metrics\u001b[39;00m\n\u001b[1;32m     <a href='vscode-notebook-cell:/Users/Ethan/Developer/Projects/Usyd/ML/assignment1/main.ipynb#X22sZmlsZQ%3D%3D?line=76'>77</a>\u001b[0m metrics \u001b[39m=\u001b[39m nmf_object\u001b[39m.\u001b[39mevaluate(image_labels)\n",
      "File \u001b[0;32m~/Developer/Projects/Usyd/ML/assignment1/algorithms/nmf_base.py:58\u001b[0m, in \u001b[0;36mNMFBase.fit\u001b[0;34m(self, plot_metrics, use_tqdm, early_stop, patience, tol)\u001b[0m\n\u001b[1;32m     55\u001b[0m iterator \u001b[39m=\u001b[39m tqdm(\u001b[39mrange\u001b[39m(\u001b[39mself\u001b[39m\u001b[39m.\u001b[39mmax_iters), desc\u001b[39m=\u001b[39m\u001b[39mf\u001b[39m\u001b[39m\"\u001b[39m\u001b[39m{\u001b[39;00m\u001b[39mself\u001b[39m\u001b[39m.\u001b[39m\u001b[39m__class__\u001b[39m\u001b[39m.\u001b[39m\u001b[39m__name__\u001b[39m\u001b[39m}\u001b[39;00m\u001b[39m Progress\u001b[39m\u001b[39m\"\u001b[39m) \u001b[39mif\u001b[39;00m use_tqdm \u001b[39melse\u001b[39;00m \u001b[39mrange\u001b[39m(\n\u001b[1;32m     56\u001b[0m     \u001b[39mself\u001b[39m\u001b[39m.\u001b[39mmax_iters)\n\u001b[1;32m     57\u001b[0m \u001b[39mfor\u001b[39;00m _ \u001b[39min\u001b[39;00m iterator:\n\u001b[0;32m---> 58\u001b[0m     \u001b[39mself\u001b[39;49m\u001b[39m.\u001b[39;49mupdate_step()\n\u001b[1;32m     60\u001b[0m     current_metrics \u001b[39m=\u001b[39m \u001b[39mself\u001b[39m\u001b[39m.\u001b[39mmetrics()\n\u001b[1;32m     61\u001b[0m     \u001b[39mfor\u001b[39;00m metric \u001b[39min\u001b[39;00m metrics_keys:\n",
      "File \u001b[0;32m~/Developer/Projects/Usyd/ML/assignment1/algorithms/multiplicative_update_NMF.py:13\u001b[0m, in \u001b[0;36mMultiplicativeUpdateNMF.update_step\u001b[0;34m(self)\u001b[0m\n\u001b[1;32m     11\u001b[0m \u001b[39mdef\u001b[39;00m \u001b[39mupdate_step\u001b[39m(\u001b[39mself\u001b[39m):\n\u001b[1;32m     12\u001b[0m     numerator \u001b[39m=\u001b[39m np\u001b[39m.\u001b[39mdot(\u001b[39mself\u001b[39m\u001b[39m.\u001b[39mW\u001b[39m.\u001b[39mT, \u001b[39mself\u001b[39m\u001b[39m.\u001b[39mV)\n\u001b[0;32m---> 13\u001b[0m     denominator \u001b[39m=\u001b[39m np\u001b[39m.\u001b[39;49mdot(\u001b[39mself\u001b[39;49m\u001b[39m.\u001b[39;49mW\u001b[39m.\u001b[39;49mT, np\u001b[39m.\u001b[39;49mdot(\u001b[39mself\u001b[39;49m\u001b[39m.\u001b[39;49mW, \u001b[39mself\u001b[39;49m\u001b[39m.\u001b[39;49mH)) \u001b[39m+\u001b[39m \u001b[39mself\u001b[39m\u001b[39m.\u001b[39mepsilon\n\u001b[1;32m     14\u001b[0m     \u001b[39mself\u001b[39m\u001b[39m.\u001b[39mH \u001b[39m*\u001b[39m\u001b[39m=\u001b[39m numerator \u001b[39m/\u001b[39m denominator\n\u001b[1;32m     16\u001b[0m     numerator \u001b[39m=\u001b[39m np\u001b[39m.\u001b[39mdot(\u001b[39mself\u001b[39m\u001b[39m.\u001b[39mV, \u001b[39mself\u001b[39m\u001b[39m.\u001b[39mH\u001b[39m.\u001b[39mT)\n",
      "\u001b[0;31mKeyboardInterrupt\u001b[0m: "
     ]
    }
   ],
   "source": [
    "# Run Experiments\n",
    "\n",
    "param = ExperimentParam(\n",
    "    nmf='multiplicative_update',\n",
    "    dataset='orl',\n",
    "    noises=[],\n",
    ")\n",
    "\n",
    "results = []\n",
    "for i in range(1, 6):\n",
    "    experiment = Experiment(param)\n",
    "    result = experiment.run(f\"base_orl_{i}\")\n",
    "    results.append(result)"
   ]
  }
 ],
 "metadata": {
  "kernelspec": {
   "display_name": "base39",
   "language": "python",
   "name": "python3"
  },
  "language_info": {
   "codemirror_mode": {
    "name": "ipython",
    "version": 3
   },
   "file_extension": ".py",
   "mimetype": "text/x-python",
   "name": "python",
   "nbconvert_exporter": "python",
   "pygments_lexer": "ipython3",
   "version": "3.9.17"
  },
  "orig_nbformat": 4
 },
 "nbformat": 4,
 "nbformat_minor": 2
}
